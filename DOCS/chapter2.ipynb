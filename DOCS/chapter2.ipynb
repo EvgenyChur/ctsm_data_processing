{
 "cells": [
  {
   "cell_type": "markdown",
   "id": "c084d4ab",
   "metadata": {},
   "source": [
    "# Get CTSM model code and first run"
   ]
  },
  {
   "cell_type": "markdown",
   "id": "dfe7a2c0",
   "metadata": {},
   "source": [
    "The *Community Land Model* (**CTSM** master in CESM2.2 beta) is the latest in a series of global land models developed by the CESM Land Model Working Group (**LMWG**) and maintained at the National Center for Atmospheric Research (**NCAR**). ([CTSM user giude][1]). This guide is intended to instruct how to run CLM model on DRKZ cluster for MP-BGC tasks.\n",
    "\n",
    "[1]: https://escomp.github.io/ctsm-docs/versions/master/html/users_guide/overview/introduction.html"
   ]
  },
  {
   "cell_type": "markdown",
   "id": "52b1fc2b",
   "metadata": {},
   "source": [
    "<div class=\"alert alert-block alert-warning\">\n",
    "<b>Important:</b> You can find more information CTSM model model and structure on  <a href=https://github.com/AdrienDams/CTSM/blob/levante/README>Github</a> or in README file in <b>/work/mj0143/b381275/CTSM/README</b>\n",
    "</div>"
   ]
  },
  {
   "cell_type": "markdown",
   "id": "a775ee19",
   "metadata": {},
   "source": [
    "## Initialisation:"
   ]
  },
  {
   "cell_type": "markdown",
   "id": "c4da6e16",
   "metadata": {},
   "source": [
    "There are several options how you can run the model. For the first run I would recommend to use a manual option. Information about CTSM running script is presented in Section 5 - automatically run."
   ]
  },
  {
   "cell_type": "markdown",
   "id": "15d56ae8",
   "metadata": {},
   "source": [
    "### Model code: "
   ]
  },
  {
   "cell_type": "markdown",
   "id": "2988e88c",
   "metadata": {},
   "source": [
    "There are three options how you can get the CTSM model code and use it:\n",
    "\n",
    "1. You can use the current code version of CTSM model located in `/work/mj0143/b381275/CTSM`. In that case, you have to copy this folder to your **work** folder and use it. Nevertheless, there is a chance that something can be modified in that version or you want to use the original model code from the CTSM github page.\n",
    "<br>\n",
    "\n",
    "2. Get CTSM model code from the [Github][1]. You can find the detailed instruction on the web-page, but the general steps look like that:\n",
    "\n",
    "```\n",
    "# 1. Make a new clone of the main repository:\n",
    "git clone --origin escomp https://github.com/ESCOMP/CTSM.git ctsm_MYBRANCH\n",
    "cd ctsm_MYBRANCH\n",
    "\n",
    "# 2. Create a new branch for your work:\n",
    "git checkout -b MYBRANCH master\n",
    "\n",
    "# 3. Get externals, you'll need to run a case:\n",
    "./manage_externals/checkout_externals\n",
    "\n",
    "```\n",
    "\n",
    "\n",
    "<font color='red' size=2><b>Important: Do not commit changes directly to the master branch. More information about pushing your updates you can find [here][1]</b></font>\n",
    "\n",
    "3. You can you [CTSM code installed][3] on LEVANTE cluster by Adried Damseaux. [Instruction is available][2]. Nevertheless, you have to upload other modules, due to Adrien uses old version of them and CTSM model cannot be build with his modules. Also, you should use other parameters in `config_machines.xml` file. This version is adapted for ERA5 forcing (I didn't test it). See below.\n",
    "\n",
    "[1]: https://github.com/ESCOMP/CTSM/wiki/Quick-start-to-CTSM-development-with-git\n",
    "[2]: https://redmine.dkrz.de/boards/42/topics/78\n",
    "[3]: https://github.com/AdrienDams/CTSM/tree/levante"
   ]
  },
  {
   "cell_type": "markdown",
   "id": "063f6b6e",
   "metadata": {},
   "source": [
    "### CLM Directory Structure:"
   ]
  },
  {
   "cell_type": "markdown",
   "id": "19810f9e",
   "metadata": {},
   "source": [
    "![fig1](https://i.ibb.co/6w15fph/fig1.jpg)\n",
    "\n",
    "**Figure 1:** Structure of CTSM model and input data. Original figure was copied from [CLM5.0 Tutorial Running CLM presentation prepared][1] by Lombardozzi D. and adapted for DKRZ cluster. "
   ]
  },
  {
   "cell_type": "markdown",
   "id": "5bda7a7f",
   "metadata": {},
   "source": [
    "### Porting CTSM model to LEVANTE cluster:"
   ]
  },
  {
   "cell_type": "markdown",
   "id": "e2c69555",
   "metadata": {},
   "source": [
    "It is an important step. In case of LEVANTE cluster this job has already been done for you and you have to copy this folder with settings to your home directory:\n",
    "```\n",
    "cp -Lr /home/b/b381275/.cime ~\n",
    "```\n",
    "\n",
    "After the `./cime` folder has been copied go to it and check parameters from two files `config_batch.xml` and `config_machine.xml`:\n",
    "```\n",
    "cd /home/b/{your_account}/cime\n",
    "```\n",
    "where: ***{your_account}*** is your DKRZ account number, ***config_batch.xml*** is custom batch system instructions, ***config_machine.xml*** is custom machine description, also you can add additional file ***config_compilers.xml*** with custom compiler instructions, but for LEVANTE cluster it is not requered.\n"
   ]
  },
  {
   "cell_type": "markdown",
   "id": "66b253ea",
   "metadata": {},
   "source": [
    "#### Settings for config_batch.xml:"
   ]
  },
  {
   "cell_type": "markdown",
   "id": "a86b04c6",
   "metadata": {},
   "source": [
    "You have to open `config_batch.xml` and find code line (504), where you have to change your account name.\n",
    "```\n",
    "<directive> --account=mj0149 </directive>\n",
    "```\n",
    "If you have an account from MPI-BGC you can use the same name. Otherwise, please change your account name. Then you have to save changes and close this file.\n",
    "\n",
    "\n",
    "More information about all parameters of `config_batch.xml` you can find [here][1]\n",
    "\n",
    "\n",
    "[1]: https://esmci.github.io/cime/versions/master/html/users_guide/machine.html"
   ]
  },
  {
   "cell_type": "markdown",
   "id": "024de561",
   "metadata": {},
   "source": [
    "#### Settings for config_machines.xml:"
   ]
  },
  {
   "cell_type": "markdown",
   "id": "0961f2b1",
   "metadata": {},
   "source": [
    "You have to open `config_machines.xml`, find and adapt the next code lines, save changes and exit:\n",
    "\n",
    "```\n",
    "<PROJECT>mj0143</PROJECT>\n",
    "<CHARGE_ACCOUNT>mj0143</CHARGE_ACCOUNT>\n",
    "<CIME_OUTPUT_ROOT>/scratch/b/$USER</CIME_OUTPUT_ROOT>\n",
    "<DIN_LOC_ROOT>/work/mj0143/b381275/inputdata</DIN_LOC_ROOT>\n",
    "<DIN_LOC_ROOT_CLMFORC>/work/mj0143/b381275/inputdata/atm/datm7</DIN_LOC_ROOT_CLMFORC>\n",
    "<DOUT_S_ROOT>/work/mj0143/$USER/archive/$CASE</DOUT_S_ROOT>\n",
    "<BASELINE_ROOT>/work/mj0143/b381275/ctsm_MYBRANCH/cime/cesm_baselines</BASELINE_ROOT>\n",
    "<CCSM_CPRNC>/work/mj0143/b381275/ctsm_MYBRANCH/cime/tools/cprnc</CCSM_CPRNC>\n",
    "```\n",
    "\n",
    "where: \n",
    "* `PROJECT` is a project or account number used for batch jobs; can be overridden in environment or in `$HOME/.cime/config`;\n",
    "* `CIME_OUTPUT_ROOT` is a base directory for case output. The **bld** and **run** directories are written below here;\n",
    "* `DIN_LOC_ROOT` is a location of the input data directory;\n",
    "* `DIN_LOC_ROOT_CLMFORC` is optional input location for clm forcing data. If you want to use standard forcing you have to save this scturcture *`inputdata/atm/datm7`*;\n",
    "* `DOUT_S_ROOT` is root directory of short-term archive files;\n",
    "* `BASELINE_ROOT` is root directory for system test baseline files;\n",
    "* `CCSM_CPRNC` is location of the cprnc tool, which compares model output in testing.\n",
    "\n",
    "\n",
    "More information about all parameters of `config_machines.xml` you can find [here][1]\n",
    "\n",
    "\n",
    "[1]: https://esmci.github.io/cime/versions/master/html/users_guide/machine.html"
   ]
  },
  {
   "cell_type": "markdown",
   "id": "247df5b7",
   "metadata": {},
   "source": [
    "***Important:*** If you have an account from MPI-BGC you can use the same settings for `PROJECT`, `CHARGE_ACCOUNT`, `DIN_LOC_ROOT`, `DIN_LOC_ROOT_CLMFORC`, `BASELINE_ROOT` and `CCSM_CPRNC`. However, in that case you will be able to use only tested by Evgenii Churiulin compsets. If you want to use other compset, you have to adapt these parameters too.\n",
    "\n",
    "\n",
    "<font color='red' size=2><b>For the first run, I recommend do not change these 6 parameters.</b></font>"
   ]
  },
  {
   "cell_type": "markdown",
   "id": "7f1811df",
   "metadata": {},
   "source": [
    "If you want to porting CTSM model into your personal computer or another CLUSTER you can find more information in: \n",
    "+ [Official CIME documentation][1];\n",
    "+ Jim Edwards [presentation][2];\n",
    "+ visit [CTSM forum][3].\n",
    "\n",
    "\n",
    "[1]: https://esmci.github.io/cime/versions/master/html/users_guide/porting-cime.html\n",
    "[2]: https://www2.cgd.ucar.edu/events/2019/ctsm/files/practical41-edwards.pdf\n",
    "[3]: https://bb.cgd.ucar.edu/cesm/forums/infrastructure-cime-porting-machines-scripts.132/\n"
   ]
  },
  {
   "cell_type": "markdown",
   "id": "15c1d56d",
   "metadata": {},
   "source": [
    "#### Load modules:"
   ]
  },
  {
   "cell_type": "markdown",
   "id": "9c5d36a5",
   "metadata": {},
   "source": [
    "The DKRZ cluster uses a module structure for install softwafe and for running CTSM model on LEVANTE cluster you have to load next modules:\n",
    "```\n",
    "module load git openjdk python3 intel-oneapi-mpi/2021.5.0-intel-2021.5.0 esmf/8.2.0-intel-2021.5.0 \\\n",
    "            gcc slk netcdf-c/4.8.1-openmpi-4.1.2-intel-2021.5.0 \\\n",
    "            netcdf-fortran/4.5.3-openmpi-4.1.2-intel-2021.5.0 \\\n",
    "            intel-oneapi-mkl/2022.0.1-gcc-11.2.0 parallel-netcdf/1.12.2-openmpi-4.1.2-intel-2021.5.0\n",
    "```"
   ]
  },
  {
   "cell_type": "markdown",
   "id": "b5a78c32",
   "metadata": {},
   "source": [
    "and make additional tags:\n",
    "```\n",
    "export CIME_MACHINE=levante\n",
    "MKLROOT=\"/sw/spack-levante/intel-oneapi-mkl-2022.0.1-ttdktf/mkl/2022.0.1\" \n",
    "```"
   ]
  },
  {
   "cell_type": "markdown",
   "id": "2d21f41f",
   "metadata": {},
   "source": [
    "Also you have to add or create you `~/.condarc` file you in home folder (you can copy this file from my folder)\n",
    "```\n",
    "cp -Lr /home/b/b381275/.condarc ~\n",
    "```\n",
    "\n",
    "In `~/.condarc` you have to check (add) these code lines:\n",
    "```\n",
    "channels:\n",
    "  - conda-forge\n",
    "auto_activate_base: false\n",
    "```\n"
   ]
  },
  {
   "cell_type": "markdown",
   "id": "1404f405",
   "metadata": {},
   "source": [
    "### Running CTSM model:"
   ]
  },
  {
   "cell_type": "markdown",
   "id": "17952fa7",
   "metadata": {},
   "source": [
    "For the first run you can use only several compsets and grids.\n",
    "\n",
    "1. <font color='green' size=2><b>CTSM version prepared for MPI-BGC tasks (tested by Evgenii Churiulin):</b></font>\n",
    "    * Composet: **I1850Clm50BgcCrop**;\n",
    "    * Resolution: **f09_g17**;\n",
    "    \n",
    "\n",
    "2. <font color='green' size=2><b>CTSM version prepared by Adrien Damseaux:</b></font>\n",
    "    * Composets: **I2000Clm50Sp**, **I2000Clm50BgcCrop** and **I2000Clm50Fates**\n",
    "    * Resolution: **f19_g17**\n",
    "    \n",
    "    \n",
    "***Other options are also avilable, but you have to download new input data, use special settings for compset and ets***. You can find more information about it in the next Chapter. However, for the first run I recommend to use prepared data."
   ]
  },
  {
   "cell_type": "markdown",
   "id": "df9009d4",
   "metadata": {},
   "source": [
    "<div class=\"alert alert-block alert-warning\">\n",
    "<b>Important:</b> There are lots of tiny details that need to be right and it is easy to get something wrong. You can find an instruction with a checklist on <a href=https://github.com/AdrienDams/CTSM/blob/levante/README.CHECKLIST.new_case>Github</a>\n",
    "</div>\n"
   ]
  },
  {
   "cell_type": "markdown",
   "id": "8f2c0fc7",
   "metadata": {},
   "source": [
    "If you use prepered data you can use the next algorithm:\n",
    "```\n",
    "# 1. Create your new case from you home folder:\n",
    "/work/mj0143/b381275/CTSM/cime/scripts/create_newcase --case your_case --mach levante --res f09_g17 \\\n",
    "                                                      --compset I1850Clm50BgcCrop --run-unsupported\n",
    "cd your_case\n",
    "```\n",
    "![fig2](https://i.ibb.co/cLnH9XR/fig2.jpg)\n",
    "\n",
    "**Figure 2:** Case structure of CTSM model. Original figure was copied from [CLM5.0 Tutorial Running CLM presentation prepared][1] by Lombardozzi D. and adapted for DKRZ cluster. \n",
    "\n",
    "```\n",
    "# 2. Setup your case:\n",
    "./case.setup\n",
    "\n",
    "# 3. Build your case:\n",
    "./case.build\n",
    "\n",
    "# 4. Submit the case:\n",
    "./case.submit\n",
    "\n",
    "# 5. If you don't have errors you can check the current status of you computations:\n",
    "squeue -u <your_account>\n",
    "```\n",
    "\n",
    "\n",
    "[1]: https://www2.cgd.ucar.edu/events/2019/ctsm/files/practical1-lombardozzi.pdf"
   ]
  },
  {
   "cell_type": "markdown",
   "id": "423224c9",
   "metadata": {},
   "source": [
    "<div class=\"alert alert-block alert-warning\">\n",
    "<b>Important:</b> Build failed? Make sure you clean the previous build:\n",
    "    \n",
    "     ./case.build --clean \n",
    "</div>     "
   ]
  },
  {
   "cell_type": "markdown",
   "id": "8b2d39ec",
   "metadata": {},
   "source": [
    "If there’s no error in the previous steps, there should be a line towards the end of `CaseStatus` file that contains `case.submit success`. You can check it with this:\n",
    "\n",
    "```\n",
    "cat CaseStatus\n",
    "```"
   ]
  },
  {
   "cell_type": "markdown",
   "id": "ea6468f3",
   "metadata": {},
   "source": [
    "If the submission is successful, your case goes in the execution queue. You can check the latest status in the same `CaseStatus` file. After a successful run, you should see messages like this:\n",
    "\n",
    "```\n",
    "2023-06-19 13:02:15: case.setup starting \n",
    " ---------------------------------------------------\n",
    "2023-06-19 13:02:18: case.setup success \n",
    " ---------------------------------------------------\n",
    "2023-06-19 13:02:28: case.build starting \n",
    " ---------------------------------------------------\n",
    "CESM version is ctsm5.1.dev086-8-gdea8661bd\n",
    "Processing externals description file : Externals.cfg\n",
    "Processing externals description file : Externals_CLM.cfg\n",
    "Processing externals description file : Externals_CISM.cfg\n",
    "Processing externals description file : Externals_CDEPS.cfg\n",
    "Checking status of externals: clm, fates, cism, source_cism, rtm, mosart, mizuroute, ccs_config, cime, cmeps, cdeps, fox, genf90, cpl7, share, mct, parallelio, doc-builder, \n",
    "    ./ccs_config\n",
    "        clean sandbox, on ccs_config_cesm0.0.15\n",
    "    ./cime\n",
    "        clean sandbox, on cime6.0.15\n",
    "    ./components/cdeps\n",
    "        clean sandbox, on cdeps0.12.41\n",
    "    ./components/cdeps/fox\n",
    "        clean sandbox, on 4.1.2.1\n",
    "    ./components/cdeps/share/genf90\n",
    "        clean sandbox, on genf90_200608\n",
    "    ./components/cism\n",
    "        clean sandbox, on cismwrap_2_1_95\n",
    "    ./components/cism/source_cism\n",
    "        clean sandbox, on cism_main_2.01.011\n",
    "    ./components/cmeps\n",
    "        clean sandbox, on cmeps0.13.47\n",
    "    ./components/cpl7\n",
    "        clean sandbox, on cpl7.0.12\n",
    "    ./components/mizuRoute\n",
    "        clean sandbox, on 34723c2e4df7caa16812770f8d53ebc83fa22360\n",
    "    ./components/mosart\n",
    "        clean sandbox, on mosart1_0_45\n",
    "    ./components/rtm\n",
    "        clean sandbox, on rtm1_0_78\n",
    "e-o ./doc/doc-builder\n",
    "        -, not checked out --> v1.0.8\n",
    "    ./libraries/mct\n",
    "        clean sandbox, on MCT_2.11.0\n",
    "    ./libraries/parallelio\n",
    "        clean sandbox, on pio2_5_6\n",
    "    ./share\n",
    "        clean sandbox, on share1.0.10\n",
    "    ./src/fates\n",
    "        clean sandbox, on sci.1.55.4_api.22.1.0\n",
    "2023-06-19 13:07:51: case.build success \n",
    " ---------------------------------------------------\n",
    "2023-06-19 13:08:51: case.submit starting 3809120\n",
    " ---------------------------------------------------\n",
    "2023-06-19 13:08:51: case.submit success 3809120\n",
    " ---------------------------------------------------\n",
    "```"
   ]
  },
  {
   "cell_type": "markdown",
   "id": "81a4cc77",
   "metadata": {},
   "source": [
    "### Output results:"
   ]
  },
  {
   "cell_type": "markdown",
   "id": "7975eb9a",
   "metadata": {},
   "source": [
    "The last line means the execution was successful and the output is put in your user archive folder. When the simulation is complete, a short-term archive directory is created, and history and log files are moved here.\n",
    "\n",
    "You can see the output here:\n",
    "```\n",
    "cd  /work/mj0146/$USER/archive/<case_ID>\n",
    "```"
   ]
  },
  {
   "cell_type": "markdown",
   "id": "c855af2a",
   "metadata": {},
   "source": [
    "![fig1](https://i.ibb.co/zNFbLtC/fig3.jpg)\n",
    "\n",
    "**Figure 3:** Common structure of output CTSM files. Original figure was copied from [CLM5.0 Tutorial Running CLM presentation prepared][1] by Lombardozzi D. and adapted for DKRZ cluster. \n",
    "\n",
    "\n",
    "Output results have NetCDF format. For example:`I1850CLM50_001.h0.0001-12.nc` \n",
    "\n",
    "where: `I1850CLM50_001` - case name, `h0` - output type, `0001` - year, `12` - month and `nc` - file type\n",
    "\n",
    "[1]: https://www2.cgd.ucar.edu/events/2019/ctsm/files/practical1-lombardozzi.pdf"
   ]
  },
  {
   "cell_type": "markdown",
   "id": "ca7dffcb",
   "metadata": {},
   "source": [
    "## 5. Automatically run"
   ]
  },
  {
   "cell_type": "markdown",
   "id": "b961bd64",
   "metadata": {},
   "source": [
    "You can run CTSM model by running script. Script is available at `/home/b/b381275/CTSM_runs/new_case.bash`. If you want to run this script in a new session you have use special tags before script run. Otherwise, CTSM works incorrectly. \n",
    "```\n",
    "export CIME_MACHINE=levante\n",
    "MKLROOT=\"/sw/spack-levante/intel-oneapi-mkl-2022.0.1-ttdktf/mkl/2022.0.1\" \n",
    "\n",
    "cd /home/mj0143/<user>/CTSM_run/\n",
    "./new_case.bash\n",
    "```"
   ]
  },
  {
   "cell_type": "markdown",
   "id": "69f64588",
   "metadata": {},
   "source": [
    "<div class=\"alert alert-block alert-info\">\n",
    "I would like to say thank you for help with installation of CTSM model on Levante cluster to the DKRZ support team (Heidrun Matthes, Irina Fast) and Adrien Damseaux.\n",
    "</div>\n",
    "\n"
   ]
  }
 ],
 "metadata": {
  "kernelspec": {
   "display_name": "Python 3 (ipykernel)",
   "language": "python",
   "name": "python3"
  },
  "language_info": {
   "codemirror_mode": {
    "name": "ipython",
    "version": 3
   },
   "file_extension": ".py",
   "mimetype": "text/x-python",
   "name": "python",
   "nbconvert_exporter": "python",
   "pygments_lexer": "ipython3",
   "version": "3.9.16"
  }
 },
 "nbformat": 4,
 "nbformat_minor": 5
}
