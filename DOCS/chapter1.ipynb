{
 "cells": [
  {
   "cell_type": "markdown",
   "id": "03a20944",
   "metadata": {},
   "source": [
    "# Abbreviations and links"
   ]
  },
  {
   "cell_type": "markdown",
   "id": "379330c0",
   "metadata": {},
   "source": [
    "## CTSM abbreviations:"
   ]
  },
  {
   "cell_type": "markdown",
   "id": "83a617b0",
   "metadata": {},
   "source": [
    "|   | Abbreviation  | Description                                                          |\n",
    "|:-:|:-------------:|:---------------------------------------------------------------------|\n",
    "|1. | CTSM          | Community Terrestrial Systems Model                                  |\n",
    "|2. | CMEPS         | Community Mediator for Earth Prediction Systems                      |\n",
    "|3. | CDEPS         | Community Data Models for Earth Prediction System                    |\n",
    "|4. | CESM          | Community Earth System Model                                         |\n",
    "|5. | ESMF          | Earth System Modeling Framework. The NUOPC layer is based on the ESMF|\n",
    "|6. | NUOPC         | National Unified Operational Prediction Capability a standard way of building coupled model system. ***CMEPS*** and ***CDEPS*** are both ***NUOPC*** based models used to drive the ***CESM*** of which ***CTSM** is a component of                                                                          |\n",
    "|7. | NCAR          | The National Center for Atmospheric Research                         |\n",
    "|8. | UCAR          | The nonprofit University Corporation for Atmospheric Research        |\n",
    "|9. | LMWG          | Land Model Working Group                                             |\n",
    "|10.| CLM           | Community Land Model (release-clm5.0 in CESM2.1)                     |\n",
    "|11.| CAM           | Community Atmosphere Model                                           |\n",
    "|12.| MOSART        | Model for Scale Adaptive River Transport                             |\n",
    "|13.| RTM           | River Transport Model                                                |\n",
    "|14.| MEGAN2.1      | Biogenic volatile organic compounds model                            |\n",
    "|15.| CISM          | Ice sheet model                                                      |\n",
    "|16.| FUN           | Fixation and Update of Nitrogen model                                |\n",
    "|17.| LUNA          | Leaf Use of Nitrogen for Assimilation model                          |\n",
    "|18.| FATES         | Functionally-Assembled Terrestrial Ecosystem Simulator               |\n",
    "|19.| CLM-DGVM      | Dynamic global vegetation model                                      |\n",
    "|20.| PFT           | Plant functional type                                                |\n",
    "|21.| CIME          | Common Infrastructure for Modeling the Earth (CIME - pronounced “SEAM”) provides a Case Control System for configuring, compiling and executing Earth system models, data and stub model components, a driver and associated tools and libraries                                                             |            "
   ]
  },
  {
   "cell_type": "markdown",
   "id": "71a67229",
   "metadata": {},
   "source": [
    "## Important links:"
   ]
  },
  {
   "cell_type": "markdown",
   "id": "0d5262b4",
   "metadata": {},
   "source": [
    "1. Github documentation - [CLM5.0 User's Guide][1]:\n",
    "    + [Quickstart][2];\n",
    "    + [Choosing a compset][3]. Espesially important subsections 1.2.1.1;\n",
    "    + [Customizing CLM’s Configuration][4]. Espesially important subsections 1.2.2.1 and 1.2.2.2;\n",
    "    + [Customizing CLM’s namelist][5];\n",
    "    + Description of `user_nl_clm` output parameters ([CTSM History Fields][6]) or you can open the same parameter in more readeble view ([CTSM History Fields][14]). This list is not full and you can find the full version [here][7] or in you case scratch (for example: `/scratch/<user_group>/<user_account>/<user_case>/run/lnd.log)`;\n",
    "    + [Creating Surface Datasets][8];\n",
    "    + [Creating CLM domain files][9];\n",
    "    + [Spinup run][10];\n",
    "    + [Atmospheric forcing][11];\n",
    "    + [CO2 forcing][12];\n",
    "    + [Single point][13].\n",
    "\n",
    "[1]: https://escomp.github.io/ctsm-docs/versions/release-clm5.0/html/users_guide/index.html\n",
    "[2]: https://escomp.github.io/ctsm-docs/versions/release-clm5.0/html/users_guide/overview/quickstart.html\n",
    "[3]: https://escomp.github.io/ctsm-docs/versions/release-clm5.0/html/users_guide/setting-up-and-running-a-case/choosing-a-compset.html\n",
    "[4]: https://escomp.github.io/ctsm-docs/versions/release-clm5.0/html/users_guide/setting-up-and-running-a-case/customizing-the-clm-configuration.html\n",
    "[5]: https://escomp.github.io/ctsm-docs/versions/release-clm5.0/html/users_guide/setting-up-and-running-a-case/customizing-the-clm-namelist.html\n",
    "[6]: https://escomp.github.io/ctsm-docs/versions/release-clm5.0/html/users_guide/setting-up-and-running-a-case/master_list_file.html\n",
    "[7]: https://drive.google.com/file/d/1xMeJUAquVKq7tF4bafxTZ61yy5CiPAc0/view?usp=sharing\n",
    "[8]: https://escomp.github.io/ctsm-docs/versions/release-clm5.0/html/users_guide/using-clm-tools/creating-surface-datasets.html\n",
    "[9]: https://escomp.github.io/ctsm-docs/versions/release-clm5.0/html/users_guide/using-clm-tools/creating-domain-files.html\n",
    "[10]: https://escomp.github.io/ctsm-docs/versions/release-clm5.0/html/users_guide/running-special-cases/Spinning-up-the-biogeochemistry-BGC-spinup.html\n",
    "[11]: https://escomp.github.io/ctsm-docs/versions/release-clm5.0/html/users_guide/running-special-cases/Running-with-your-own-previous-simulation-as-atmospheric-forcing-to-spinup-the-model.html\n",
    "[12]: https://escomp.github.io/ctsm-docs/versions/release-clm5.0/html/users_guide/running-special-cases/Running-stand-alone-CLM-with-transient-historical-CO2-concentration.html\n",
    "[13]: https://escomp.github.io/ctsm-docs/versions/release-clm5.0/html/users_guide/running-single-points/index.html\n",
    "[14]: https://escomp.github.io/ctsm-docs/versions/release-clm5.0/html/_sources/users_guide/setting-up-and-running-a-case/master_list_file.rst.txt"
   ]
  },
  {
   "cell_type": "markdown",
   "id": "ef57e07a",
   "metadata": {},
   "source": [
    "2. Github documentation - [CLM Technical Note][1]\n",
    "\n",
    "[1]: https://escomp.github.io/ctsm-docs/versions/release-clm5.0/html/tech_note/index.html"
   ]
  },
  {
   "cell_type": "markdown",
   "id": "cb617655",
   "metadata": {},
   "source": [
    "3. Github documentation for [CTSM-Norway][1]\n",
    "   \n",
    "[1]: https://metos-uio.github.io/CTSM-Norway-Documentation/"
   ]
  },
  {
   "cell_type": "markdown",
   "id": "882b1b35",
   "metadata": {},
   "source": [
    "4. Github documentation for [CESM2.2][1]\n",
    "\n",
    "[1]: https://escomp.github.io/CESM/versions/cesm2.2/html/introduction.html"
   ]
  },
  {
   "cell_type": "markdown",
   "id": "8034c483",
   "metadata": {},
   "source": [
    "5. Github documentation for [CIME][1]. Here, you can find more information how to [create][2], [set][3], [build][4], [run][5], [clone][6] a new case. Also, this documentation has information how to [port CTSM][7] model on a new platform\n",
    "    \n",
    "[1]: https://esmci.github.io/cime/versions/master/html/index.html\n",
    "[2]: https://esmci.github.io/cime/versions/master/html/users_guide/create-a-case.html\n",
    "[3]: https://esmci.github.io/cime/versions/master/html/users_guide/setting-up-a-case.html\n",
    "[4]: https://esmci.github.io/cime/versions/master/html/users_guide/building-a-case.html\n",
    "[5]: https://esmci.github.io/cime/versions/master/html/users_guide/running-a-case.html\n",
    "[6]: https://esmci.github.io/cime/versions/master/html/users_guide/cloning-a-case.html\n",
    "[7]: https://esmci.github.io/cime/versions/master/html/users_guide/index.html#case-control-system-part-2-configuration-porting-testing-and-use-cases"
   ]
  },
  {
   "cell_type": "markdown",
   "id": "4b411ab9",
   "metadata": {},
   "source": [
    "6. Community Earth System Model 2 ([CESM2][1]):\n",
    "    + [CESM2 Naming Conventions][2]\n",
    "    + [Grid resolutions][3]\n",
    "    + [CESM compsets][4]\n",
    "    + [Component Configuration Settings][5] (namelist settings parameteres). not to be confused with output parameters (CTSM History Fields). [CTSM History Fields][6] also have to be added to namelists\n",
    "    + [CTSM Tutorials][7]:\n",
    "        - [2019 year][8]. Super useful practical slides and materials which are located into **coursework**\n",
    "        - [2021 year][9]\n",
    "        - [2022 year][10]\n",
    "\n",
    "<font color='red' size=2><b>Official web-page is really important and has a lot of information which is not presented into documentation</b></font>\n",
    "\n",
    "[1]: https://www.cesm.ucar.edu/models/cesm2\n",
    "[2]: https://www.cesm.ucar.edu/models/cesm2/naming-conventions\n",
    "[3]: https://www.cesm.ucar.edu/models/cesm2/config/grids.html\n",
    "[4]: https://www.cesm.ucar.edu/models/cesm2/config/compsets.html   \n",
    "[5]: https://www.cesm.ucar.edu/models/cesm2/settings/current\n",
    "[6]: https://escomp.github.io/ctsm-docs/versions/release-clm5.0/html/_sources/users_guide/setting-up-and-running-a-case/master_list_file.rst.txt\n",
    "[7]: https://www2.cesm.ucar.edu/events/tutorials/\n",
    "[8]: https://www2.cesm.ucar.edu/events/tutorials/2019/\n",
    "[9]: https://www2.cesm.ucar.edu/events/tutorials/2021/\n",
    "[10]: https://www2.cesm.ucar.edu/events/tutorials/2022/"
   ]
  },
  {
   "cell_type": "markdown",
   "id": "c88a4907",
   "metadata": {},
   "source": [
    "7. Examples of NetCDF post-processing scripts:\n",
    "\n",
    "    + [NCAR][1]\n",
    "    + [Copernicus][2]\n",
    "    + [DKRZ][3]\n",
    "    \n",
    "[1]: https://geocat-examples.readthedocs.io/en/latest/gallery/index.html\n",
    "[2]: https://ecmwf-projects.github.io/copernicus-training-c3s/reanalysis-climatology.html\n",
    "[3]: https://docs.dkrz.de/doc/visualization/index.html"
   ]
  },
  {
   "cell_type": "markdown",
   "id": "1cdd79d0",
   "metadata": {},
   "source": [
    "8. [CTSM model forum][1]\n",
    "\n",
    "[1]: https://bb.cgd.ucar.edu/cesm/"
   ]
  },
  {
   "cell_type": "markdown",
   "id": "d78fbf4d",
   "metadata": {},
   "source": [
    "9. CTSM model code:\n",
    "    + Original [CTSM code][1]\n",
    "    + LEVANTE [CTSM code][2]\n",
    "\n",
    "[1]: https://github.com/ESCOMP/CTSM\n",
    "[2]: https://github.com/AdrienDams/CTSM/tree/levante\n"
   ]
  },
  {
   "cell_type": "markdown",
   "id": "687cd5c0",
   "metadata": {},
   "source": [
    "10. Common [instruction][1] for running CTSM model on LEVANTE cluster (doesn't work without changes) -> see Chapter 1.\n",
    "\n",
    "[1]: https://redmine.dkrz.de/boards/42/topics/78"
   ]
  }
 ],
 "metadata": {
  "kernelspec": {
   "display_name": "Python 3 (ipykernel)",
   "language": "python",
   "name": "python3"
  },
  "language_info": {
   "codemirror_mode": {
    "name": "ipython",
    "version": 3
   },
   "file_extension": ".py",
   "mimetype": "text/x-python",
   "name": "python",
   "nbconvert_exporter": "python",
   "pygments_lexer": "ipython3",
   "version": "3.9.16"
  }
 },
 "nbformat": 4,
 "nbformat_minor": 5
}
