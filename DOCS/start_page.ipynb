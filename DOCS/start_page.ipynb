{
 "cells": [
  {
   "cell_type": "markdown",
   "id": "e6711291",
   "metadata": {},
   "source": [
    "[![logo](https://idw-online.de/en/institutionlogo29076)][1]\n",
    "\n",
    "# How to run and set CTSM model on LEVANTE (DKRZ) cluster:\n",
    "\n",
    "[1]: https://www.bgc-jena.mpg.de/"
   ]
  },
  {
   "cell_type": "markdown",
   "id": "5ad80e61",
   "metadata": {},
   "source": [
    "Authors: Evgenii Churiulin, Ana Bastos (Max-Planck)\n",
    "\n",
    "Max Planck Institute for Biogeochemistry (Department Biogeochemical Integration)\n",
    "\n",
    "email: evchur@bgc-jena.mpg.de "
   ]
  },
  {
   "cell_type": "markdown",
   "id": "e24c1a1c",
   "metadata": {},
   "source": [
    "## Table of contents:"
   ]
  },
  {
   "cell_type": "markdown",
   "id": "78872367",
   "metadata": {},
   "source": [
    "### [Chapter 1: Abbreviations and links](./chapter1.ipynb)\n",
    "### [Chapter 2: Get CTSM model code and preparing model for the first run](./chapter2.ipynb)\n",
    "### [Chapter 3: Customization of your user case (main, standalone)](./chapter3.ipynb)\n",
    "### [Chapter 4: Customization of your  CTSM’s xml files and namelists](./chapter4.ipynb)\n",
    "### [Chapter 5: Customization of your atmospheric forcing](./chapter5.ipynb)\n",
    "### [Chapter 6: Customization of your CO2 forcing](./chapter6.ipynb)"
   ]
  },
  {
   "cell_type": "markdown",
   "id": "0aac494a",
   "metadata": {},
   "source": [
    "[![fig](https://i.ibb.co/2q6JC4K/CTSM.png)][1]\n",
    "\n",
    "[1]: https://github.com/ESCOMP/CTSM"
   ]
  },
  {
   "cell_type": "markdown",
   "id": "c23e8c91",
   "metadata": {},
   "source": [
    "**Figure 1:** The official github page of CTSM model"
   ]
  }
 ],
 "metadata": {
  "kernelspec": {
   "display_name": "Python 3 (ipykernel)",
   "language": "python",
   "name": "python3"
  },
  "language_info": {
   "codemirror_mode": {
    "name": "ipython",
    "version": 3
   },
   "file_extension": ".py",
   "mimetype": "text/x-python",
   "name": "python",
   "nbconvert_exporter": "python",
   "pygments_lexer": "ipython3",
   "version": "3.9.16"
  }
 },
 "nbformat": 4,
 "nbformat_minor": 5
}
