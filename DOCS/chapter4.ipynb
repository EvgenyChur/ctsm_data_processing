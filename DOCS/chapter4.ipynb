{
 "cells": [
  {
   "cell_type": "markdown",
   "id": "d7cacc5f",
   "metadata": {},
   "source": [
    "# Customizing CLM’s xml files and namelists:"
   ]
  },
  {
   "cell_type": "markdown",
   "id": "fff14da6",
   "metadata": {},
   "source": [
    "## Changes in env_*.xml file descriptions"
   ]
  },
  {
   "cell_type": "markdown",
   "id": "c1eb232d",
   "metadata": {},
   "source": [
    "- `env_archive.xml` - specifies rules for short-term archival script **case.st_archive**;\n",
    "\n",
    "- `env_batch.xml` - set by **create_newcase** to define batch specific settings used by the script **case.submit**, including project number and computing time;\n",
    "\n",
    "- `env_build.xml` - specifies build information used by the script **case.build**. Note that if this is modified, the model *must be recompiled*;\n",
    "\n",
    "- `env_case.xml` - set by **create_newcase** and cannon be modified;\n",
    "\n",
    "- `env_mach_pes.xml` - specifies the PE layout of components used be the script **case.run**;\n",
    "\n",
    "- `env_mach_specific.xml` - specifies machine-specific information used by the script **case.build**;\n",
    "\n",
    "- `env_run.xml` - sets run-time information such as the length of the run, frequency of restarts. *This is the most frequently modified xml file.*\n",
    "\n",
    "\n",
    "The `env_batch.xml` and `env_run.xml` files include most of the variables you need to modify to set up and run simulations and can be changed at any time before running the simulation;"
   ]
  },
  {
   "cell_type": "markdown",
   "id": "b98c3aa2",
   "metadata": {},
   "source": [
    "### How to change xml files using xml scripts:"
   ]
  },
  {
   "cell_type": "markdown",
   "id": "f3fc5caa",
   "metadata": {},
   "source": [
    "1. You can get all actual setting (variables) for your case using these commands: \n",
    "```\n",
    "# Get the full list of variables in command window:\n",
    "./xmlquery --listall\n",
    "# Get the full list of variables in file (settings.txt)\n",
    "./xmlquery --listall > settings.txt\n",
    "```\n",
    "\n",
    "**Important:** When you use this command you will get a list of variables devided by groups.\n",
    "![fig1](https://i.ibb.co/c8TVyS9/group-xml-parameters.jpg)\n",
    "\n",
    "**Figure 4.** Example of xml group parameters printed by `./xmlquery --listall` command\n",
    "\n",
    "The detailed description of the groups and variables from them you can find at [CESM2 Component Configuration Settings][1]. Parameters from the `.xml groups` are presented into next sections (CASEROOT varible definitions) devided by using models:\n",
    "- ***Atmosphere Models:***\n",
    "    * CAM CASEROOT Variable definitions;\n",
    "    * DATM CASEROOT Variable definitions.\n",
    "- ***Land Models:***\n",
    "    * CLM5.0 CASEROOT Variable definitions;\n",
    "    * DLND CASEROOT Variable definitions.\n",
    "- ***River Models:***\n",
    "    * MOSART CASEROOT Variable definitions;\n",
    "    * RTM CASEROOT Variable definitions;\n",
    "    * DROF CASEROOT Variable definitions.\n",
    "- ***Ocean Models:***\n",
    "    * POP2 / MARBL CASEROOT Variable definitions;\n",
    "    * DOCN CASEROOT Variable definitions.\n",
    "- ***Sea Ice Models:***\n",
    "    * CICE CASEROOT Variable Definitions;\n",
    "    * DICE CASEROOT Variable Definitions.\n",
    "- ***Wave Models:***\n",
    "    * WW3 CASEROOT Variable Definitions;\n",
    "    * DWAV CASEROOT Variable Definitions.\n",
    "- ***Land Ice Model:***\n",
    "    * CISM CASEROOT Variable Definitions.\n",
    "- ***Driver / Coupler:***\n",
    "    * Driver / Coupler CASEROOT Variable definitions -- **common parameters**;\n",
    "    * Driver / Coupler CESM2 Specific CASEROOT Variable definitions.\n",
    "- ***External System Processing Data Assimilation:***\n",
    "    * DESP CASEROOT Variable Definitions.\n",
    "        \n",
    "![fig2](https://i.ibb.co/SVz5SC5/group-xml-parameters-web-page.jpg)\n",
    "**Figure 5.** One part of namelist `DATM CASEROOT Variable definitions` with xml parameters from the CESM2 web-page. \n",
    "\n",
    "[1]: https://docs.cesm.ucar.edu/models/cesm2/settings/current/"
   ]
  },
  {
   "cell_type": "markdown",
   "id": "9a40826f",
   "metadata": {},
   "source": [
    "2. Modify a variable in a .xml file, use `./xmlchange`;\n",
    "3. For help, type `./xmlchange --help`.\n",
    "\n",
    "Examples: editing `env_*.xml` via the `xmlchange` tool (`./xmlchange {variable to be changed}={value to change to}`):\n",
    "   * `STOP_OPTION` -> set the run-time interval type, i.e. nmonths, ndays, nyears\n",
    "       1. `./xmlchange STOP_OPTION=nyears` -> change the run-time interval from days to years.\n",
    "       2. `./xmlquery STOP_OPTION,STOP_N`\n",
    "       \n",
    "   * `STOP_N` -> set the number of run-time intervals to run the model during the specified wallclock time;\n",
    "       \n",
    "   * `RESUBMIT` -> sets the number of times to resubmit the run\n",
    "\n",
    "\n",
    "4. At the end of your changes you can check the new values again using command 1 (`./xmlquery --listall`)."
   ]
  },
  {
   "cell_type": "markdown",
   "id": "1ec4b4a4",
   "metadata": {},
   "source": [
    "**INFO:**\n",
    "A typical CLM-only 1850 satellite phenology (SP) simulation will run ~115 years in 12 hours.\n",
    "\n",
    "\n",
    "\n",
    "\n"
   ]
  },
  {
   "cell_type": "markdown",
   "id": "21f89237",
   "metadata": {},
   "source": [
    "## Changes in namelists:"
   ]
  },
  {
   "cell_type": "markdown",
   "id": "42b529f9",
   "metadata": {},
   "source": [
    "You have to modified namelists only in your `CASEROOT` folder.  Depending on your selected compset you will have different amount of namelists. More information about compset you can get:\n",
    "+ Official web-page - [Component Set Definitions(compset)][1]\n",
    "+ Using these `./query_config` commands:\n",
    "```\n",
    "cd CTSM_ROOT/cime/scripts\n",
    "./query_config --compset\n",
    "```\n",
    "\n",
    "More information about it you can get using this command: `./query_config` or `./query_config --h or --help`\n",
    "\n",
    "[1]: https://docs.cesm.ucar.edu/models/cesm2/config/compsets.html\n"
   ]
  },
  {
   "cell_type": "markdown",
   "id": "f90ec89c",
   "metadata": {},
   "source": [
    "![fig3](https://i.ibb.co/cDdZVCm/namelists-changes.jpg)\n",
    "\n",
    "**Figure 6.** Namelists in CTSM Directory Structure. Figure were copied from [Jackie Shuman & Katie Dagon presentation][1]. \n",
    "\n",
    "[1]: https://www2.cgd.ucar.edu/events/2019/ctsm/files/practical2-shuman-dagon.pdf"
   ]
  },
  {
   "cell_type": "markdown",
   "id": "f6faf07f",
   "metadata": {},
   "source": [
    "***Modification of namelist***:\n",
    "\n",
    "1. `user_nl_clm` -> modifies namelist file **lnd_in** (land). This namelist has parameters for CLM model. All CLMv5.0 namelist variables are presented [here][1].\n",
    "2. `user_nl_datm` -> modifies namelist file **datm_in** (atmosphere). This namelist has parameters for climatological atmosphere data (atmosheric forcing). All DATM namelist variables are presented [here][2].\n",
    "3. `user_nl_mosart` -> modifies namelist file **mosart_in** (river transport). This namelist has parameters for prognostic river runoff model MOSART. All DATM namelist variables are presented [here][3].\n",
    "4. `user_nl_cism` -> modifies namelist file **cism_in** (ice).\n",
    "5. `user_nl_cpl` -> modifies namelist file **driver; drv_in** (coupler).\n",
    "\n",
    "More information about namelists and setting parameteres, you can find [here][4]\n",
    "\n",
    "\n",
    "[1]: https://docs.cesm.ucar.edu/models/cesm2/settings/current/clm5_0_nml.html\n",
    "[2]: https://docs.cesm.ucar.edu/models/cesm2/settings/current/datm_nml.html\n",
    "[3]: https://docs.cesm.ucar.edu/models/cesm2/settings/current/mosart_nml.html\n",
    "[4]: https://docs.cesm.ucar.edu/models/cesm2/settings/current/"
   ]
  },
  {
   "cell_type": "markdown",
   "id": "a4b86122",
   "metadata": {},
   "source": [
    "In case of standalone simulations (**I**) you have to modify only two namelists (`user_nl_datm` and `user_nl_clm`). Moreover, you have to modify `user_nl_datm` only if you want to use you own forcing. otherwise you can use atmospheric forcing prepared by NCAR, using `DATM_MODE` parameter from ***[DATM2.1 CASEROOT Variable Definitions][1]***.\n",
    "\n",
    "- ***Atmosphere Models:***\n",
    "    * [DATM Namelist Definitions][2].\n",
    "- ***Land Models:***\n",
    "    * [DLND Namelist Definitions][3].\n",
    "    \n",
    "[1]: https://docs.cesm.ucar.edu/models/cesm2/settings/current/datm_input.html\n",
    "[2]: https://docs.cesm.ucar.edu/models/cesm2/settings/current/datm_nml.html\n",
    "[3]: https://docs.cesm.ucar.edu/models/cesm2/settings/current/dlnd_nml.html"
   ]
  },
  {
   "cell_type": "markdown",
   "id": "a15f7188",
   "metadata": {},
   "source": [
    "Parameters from namelists have three ***main*** settings:\n",
    "- `nhtfrq` --> sets the output frequency\n",
    "    + **nhtfrq = 0** --> monthly or default\n",
    "    + **nhtfrq > 0** --> frequency is input as number timesteps\n",
    "    + **nhtfrq < 0** --> frequency is input as number of hours  --> **nhtfrq = -24** daily\n",
    "\n",
    "- `fincl` --> add variables to the history file\n",
    "\n",
    "- `mfilt`  --> maximum number of time samples written to a history file (**mfilt = 10** -> 10 time samples on each history file (10 months in single file). Default is 1 ) "
   ]
  },
  {
   "cell_type": "markdown",
   "id": "6d261c13",
   "metadata": {},
   "source": [
    "**Different namelists have different prefixes:**\n",
    "1. `CAM model` --> no prefix (nhtfrq, mfilt):\n",
    "\n",
    "2. `CLM model` --> has prefix **hist_**:\n",
    "    + hist_nhtfrq --> output frequency of the history file;\n",
    "    + hist_mfilt --> number of samples on each history file;\n",
    "    + hist_fincl --> adding variables and auxiliary history files.\n",
    "    \n",
    "3. `MOSART model` --> has prefix **rtmhist_**:\n",
    "    + rtmhist_nhtfrq\n",
    "    \n",
    "**How you can find this prefix?**\n",
    "You have to open the official [wep-page][1], then select your model [Namelist Definitions][2] and then you can search by `nhtfrq` parameter. The letters before this parameter means - prefix.\n",
    "\n",
    "\n",
    "[1]: https://docs.cesm.ucar.edu/models/cesm2/settings/current/\n",
    "[2]: https://docs.cesm.ucar.edu/models/cesm2/settings/current/mosart_nml.html"
   ]
  },
  {
   "cell_type": "markdown",
   "id": "cdc7ec06",
   "metadata": {},
   "source": [
    "### Examples:"
   ]
  },
  {
   "cell_type": "markdown",
   "id": "34792d99",
   "metadata": {},
   "source": [
    "<font color='red' size=2><b>user_cam_nl:</b></font>\n",
    "\n",
    "```\n",
    "# Set daily data over year in one NetCDF file:\n",
    "nhtfrq = -24\n",
    "mfilt = 365\n",
    "```\n",
    "\n",
    "```\n",
    "# Set dayly data over year in 365 NetCDF files:\n",
    "nhtfrq = -24\n",
    "mfilt = 1\n",
    "```\n",
    "\n",
    "Output history files have names: **h0, h1, h2, ..., h09**. The file `'h0'` contains the default variables - **don't change default file**.\n",
    "\n",
    "***To control the list of fields in the history files we can use the namelists variables:***\n",
    "\n",
    "`h0 - fincl1`; `h1 - fincl2`; `h2 - fincl3`  ... `h9 - fincl10`\n"
   ]
  },
  {
   "cell_type": "markdown",
   "id": "7df75704",
   "metadata": {},
   "source": [
    "1. **Example 1: Add precipitation parameter to `user_nl_cam` namelist. Output file (h0) with default settings:**\n",
    "```\n",
    "fincl1 = 'PRECT'\n",
    "```\n",
    "\n",
    "2. **Example 2: Add the minimum of 'PRECT' to the file 'h0':**\n",
    "In addition, I can set a flag for the output field. I can do that using a simbol `:` following a field gives the averaging flag for the output field:\n",
    "+ **`A`** -> average (default;\n",
    "+ **`B`** -> GMT 00:00:00 average;\n",
    "+ **`I`** -> Instantaneous;\n",
    "+ **`M`** -> Minimum;\n",
    "+ **`X`** -> Maximum;\n",
    "+ **`L`** -> Local time;\n",
    "+ **`S`** -> Standard deviation.\n",
    "```\n",
    "fincl1 = 'PRECT:M'\n",
    "```\n",
    "\n",
    "3. **Example 3: Get several variables:**\n",
    "    - Monthly history file 'h0'\n",
    "    - Instantaneous values of T,Q,U,V for every 3 hour and we will have 8 time samples in each h1 file (create a new file every day):\n",
    "```\n",
    "fincl1 = 'PRECT:M'\n",
    "fincl2 = 'T:I', 'Q:I', 'U:I', 'V:I'\n",
    "nhtfrq = 0,-3\n",
    "mfilt = 1,8\n",
    "```\n",
    "\n",
    "\n"
   ]
  },
  {
   "cell_type": "markdown",
   "id": "6295f74a",
   "metadata": {},
   "source": [
    "<font color='red' size=2><b>Important:</b></font> Don't modify the namelist files (`lnd_in`,`datm_in`,`mosart_in` and ets.) directly. You have to change only your `user_nl_*` files and see changes into `CaseDocs/*_in` files:\n",
    "\n",
    "```\n",
    "# Go to user case:\n",
    "cd <user_case>\n",
    "# Run the script to generate namelists to make sure your namelist settings don’t have any typos:\n",
    "./preview_namelists\n",
    "# Go to CaseDocs folder:\n",
    "cd CaseDocs\n",
    "# Open namelist (you can use your text editor)\n",
    "vim datm_im #(lnd_in, drv_in, ...)\n",
    "# Close namelist without changes\n",
    "ctrl+q\n",
    "./case.build\n",
    "```\n",
    "\n",
    "If you change namelists (user_nl_clm, user_datm_in, and ets) and you want to see changes into `CaseDocs` you have to use this command again. Also, I recommend to check namelists and changes into them before `./case.build`"
   ]
  },
  {
   "cell_type": "markdown",
   "id": "c4d07e51",
   "metadata": {},
   "source": [
    "### Example of user_nl_clm"
   ]
  },
  {
   "cell_type": "markdown",
   "id": "1e43fa94",
   "metadata": {},
   "source": [
    "```\n",
    "!----------------------------------------------------------------------------------\n",
    "! Users should add all user specific namelist changes below in the form of \n",
    "! namelist_var = new_namelist_value \n",
    "!\n",
    "! EXCEPTIONS: \n",
    "! Set use_cndv           by the compset you use and the CLM_BLDNML_OPTS -dynamic_vegetation setting\n",
    "! Set use_vichydro       by the compset you use and the CLM_BLDNML_OPTS -vichydro           setting\n",
    "! Set use_cn             by the compset you use and CLM_BLDNML_OPTS -bgc  setting\n",
    "! Set use_crop           by the compset you use and CLM_BLDNML_OPTS -crop setting\n",
    "! Set spinup_state       by the CLM_BLDNML_OPTS -bgc_spinup      setting\n",
    "! Set co2_ppmv           with CCSM_CO2_PPMV                      option\n",
    "! Set fatmlndfrc         with LND_DOMAIN_PATH/LND_DOMAIN_FILE    options\n",
    "! Set finidat            with RUN_REFCASE/RUN_REFDATE/RUN_REFTOD options for hybrid or branch cases\n",
    "!                        (includes $inst_string for multi-ensemble cases)\n",
    "!                        or with CLM_FORCE_COLDSTART to do a cold start\n",
    "!                        or set it with an explicit filename here.\n",
    "! Set maxpatch_glcmec    with GLC_NEC                            option\n",
    "! Set glc_do_dynglacier  with GLC_TWO_WAY_COUPLING               env variable\n",
    "!----------------------------------------------------------------------------------\n",
    "hist_fincl2    = 'TG','TBOT','FIRE','FIRA','FLDS','FSDS',\n",
    "                 'FSR','FSA','FGEV','FSH','FGR','TSOI',\n",
    "                 'ERRSOI','SABV','SABG',\n",
    "                 'FSDSVD','FSDSND','FSDSVI','FSDSNI',\n",
    "                 'FSRVD','FSRND','FSRVI','FSRNI',\n",
    "                 'TSA','FCTR','FCEV','QBOT','RH2M','H2OSOI',\n",
    "                 'H2OSNO','SOILLIQ','SOILICE',\n",
    "                 'TSA_U', 'TSA_R',\n",
    "                 'TREFMNAV_U', 'TREFMNAV_R',\n",
    "                 'TREFMXAV_U', 'TREFMXAV_R',\n",
    "                 'TG_U', 'TG_R',\n",
    "                 'RH2M_U', 'RH2M_R',\n",
    "                 'QRUNOFF_U', 'QRUNOFF_R',\n",
    "                 'SoilAlpha_U',\n",
    "                 'SWup', 'LWup', 'URBAN_AC', 'URBAN_HEAT'\n",
    "hist_fincl3 = 'TG:I', 'FSA:I', 'SWup:I', 'URBAN_AC:I', 'URBAN_HEAT:I',\n",
    "              'TG_U:I', 'TG_R:I',\n",
    "hist_fincl4 = 'TG', 'FSA', 'SWup', 'URBAN_AC', 'URBAN_HEAT'\n",
    "hist_mfilt  = 1, 30,  28, 24\n",
    "hist_nhtfrq = 0, -24, -6, -1\n",
    "```"
   ]
  },
  {
   "cell_type": "markdown",
   "id": "cbb02e05",
   "metadata": {},
   "source": [
    "### Beginning of the `lnd_in` file based on `user_nl_clm`:\n",
    "\n",
    "```\n",
    "&clm_inparm\n",
    " albice = 0.50,0.30\n",
    " co2_ppmv = 284.7               # CO2 values\n",
    " co2_type = 'constant'          # CO2 type\n",
    " collapse_urban = .false.\n",
    " compname = 'clm2'\n",
    " create_crop_landunit = .true.\n",
    " \n",
    " # File with initial conditions:\n",
    " finidat = '/work/mj0143/b381275/inputdata/lnd/clm2/initdata_map/clmi.I1850Clm50BgcCrop-ciso.1366-01-01.0.9x1.25_gx1v7_simyr1850_c200428.nc'\n",
    " for_testing_no_crop_seed_replenishment = .false.\n",
    " for_testing_run_ncdiopio_tests = .false.\n",
    " for_testing_use_repr_structure_pool = .false.\n",
    " for_testing_use_second_grain_pool = .false.\n",
    " fsnowaging = '/work/mj0143/b381275/inputdata/lnd/clm2/snicardata/snicar_drdt_bst_fit_60_c070416.nc'\n",
    " fsnowoptics = '/work/mj0143/b381275/inputdata/lnd/clm2/snicardata/snicar_optics_5bnd_c090915.nc'\n",
    " \n",
    " # File with surface dataset:\n",
    " fsurdat = '/work/mj0143/b381275/inputdata/lnd/clm2/surfdata_map/release-clm5.0.18/surfdata_0.9x1.25_hist_78pfts_CMIP6_simyr1850_c190214.nc'\n",
    " glc_do_dynglacier = .false.\n",
    " glc_snow_persistence_max_days = 0\n",
    " h2osno_max = 10000.0\n",
    " \n",
    " # Output parameters -> based on user_nl_clm:\n",
    " hist_fincl2 = 'TG', 'TBOT', 'FIRE', 'FIRA', 'FLDS', 'FSDS', 'FSR', 'FSA', 'FGEV', 'FSH',\n",
    "               'FGR','TSOI', 'ERRSOI', 'SABV', 'SABG', 'FSDSVD', 'FSDSND', 'FSDSVI', 'FSDSNI', \n",
    "               'FSRVD', 'FSRND', 'FSRVI','FSRNI', 'TSA', 'FCTR', 'FCEV', 'QBOT', 'RH2M', \n",
    "               'H2OSOI', 'H2OSNO', 'SOILLIQ', 'SOILICE', 'TSA_U','TSA_R', 'TREFMNAV_U',\n",
    "               'TREFMNAV_R', 'TREFMXAV_U', 'TREFMXAV_R', 'TG_U', 'TG_R', 'RH2M_U', 'RH2M_R',\n",
    "               'QRUNOFF_U', 'QRUNOFF_R','SoilAlpha_U', 'SWup', 'LWup', 'URBAN_AC', 'URBAN_HEAT',\n",
    "               'GPP', 'NPP', 'NEE', 'LWdown', 'FWET', 'TOTVEGC','TOTVEGN', 'TOTFIRE', 'TOTLITC',\n",
    "               'TOTLITN', 'TOTSOMC', 'TOTSOMN', 'TOTVEGC', 'TOTVEGN', 'ER', 'HR', 'Qle','AnnET', \n",
    "               'BAF_CROP', 'BAF_PEATF'\n",
    " hist_fincl3 = 'TG:I','FSA:I','SWup:I','URBAN_AC:I','URBAN_HEAT:I','TG_U:I','TG_R:I'\n",
    " hist_fincl4 = 'TG','FSA','SWup','URBAN_AC','URBAN_HEAT'\n",
    " hist_master_list_file = .false.\n",
    " hist_mfilt = 1,30,28,24\n",
    " hist_nhtfrq = 0,-24,-6,-1\n",
    " \n",
    " irrigate = .false.\n",
    " maxpatch_glc = 10\n",
    " n_dom_landunits = 0\n",
    " n_dom_pfts = 0\n",
    " nlevsno = 12\n",
    " nsegspc = 35\n",
    " o3_veg_stress_method = 'unset'\n",
    " \n",
    " # PFT parameters:\n",
    " paramfile = '/work/mj0143/b381275/inputdata/lnd/clm2/paramdata/clm50_params.c211112.nc'\n",
    " run_zero_weight_urban = .false.\n",
    " snow_cover_fraction_method = 'SwensonLawrence2012'\n",
    " \n",
    " # Different component sets:\n",
    " soil_layerstruct_predefined = '20SL_8.5m'\n",
    " spinup_state = 0\n",
    " suplnitro = 'NONE'\n",
    " toosmall_crop = 0.d00\n",
    " toosmall_glacier = 0.d00\n",
    " toosmall_lake = 0.d00\n",
    " toosmall_soil = 0.d00\n",
    " toosmall_urban = 0.d00\n",
    " toosmall_wetland = 0.d00\n",
    " use_bedrock = .true.\n",
    " use_cn = .true.\n",
    " use_crop = .true.\n",
    " use_dynroot = .false.\n",
    " use_fates = .false.\n",
    " use_fertilizer = .true.\n",
    " use_flexiblecn = .true.\n",
    " use_fun = .true.\n",
    " use_grainproduct = .true.\n",
    " use_hydrstress = .true.\n",
    " use_lai_streams = .false.\n",
    " use_lch4 = .true.\n",
    " use_luna = .true.\n",
    " use_nguardrail = .true.\n",
    " use_nitrif_denitrif = .true.\n",
    " use_soil_moisture_streams = .false.\n",
    " use_subgrid_fluxes = .true.\n",
    " ```"
   ]
  },
  {
   "cell_type": "markdown",
   "id": "356fc945",
   "metadata": {},
   "source": [
    "## Updating PFT related parameters:"
   ]
  },
  {
   "cell_type": "markdown",
   "id": "c82f9cef",
   "metadata": {},
   "source": [
    "All CTSM PFT parameters are located in file `clm5_params.c171117.nc`. You can find this file in:\n",
    "1. `~/inputdata/lnd/clm2/paramdata/clm5_params.c171117.nc`\n",
    "\n",
    "2. Also, you can clarify the location of this file in ***CaseDocs inside your Case directory***. For that, you have to use this algorithm:\n",
    "```\n",
    "# 0. You have already finished (create_newcase, setup and build)\n",
    "\n",
    "# 1. Go to your CaseDocs folder inside your Case and open file lnd_in:\n",
    "cd ~/<case>/CaseDocs\n",
    "vi lnd_in               # you can use your text editor\n",
    "\n",
    "# 2. You should find in variable paramfile in lnd_in and copy this file to your case folder:\n",
    "cp <paramfile> ~/<case>/. \n",
    "cd ~/<case>\n",
    "```\n",
    "\n",
    "After that, you have to change this file with parameters in your **case** folder.\n",
    "```\n",
    "# 1. load module for work with NetCDF\n",
    "module load nco\n",
    "\n",
    "# 2. Modify file (parameter for changing: medlynslope). We will decrease all the values of this parameter by 10%\n",
    "ncap2 -s \"medlynslope=medlynslope*0.9\" clm5_params.c171117.nc <new_param_file_name>\n",
    "\n",
    "# 3. Set new path for paramfile in user_nl_clm. Just add this line to namelist:\n",
    "paramfile ='/home/b/<user>/<CTSM>/<case>/<new_param_file_name>'\n",
    "```"
   ]
  },
  {
   "cell_type": "markdown",
   "id": "aa14d21a",
   "metadata": {},
   "source": [
    "Also, there is more complicated version for more global changes. You can find this option [here][1].\n",
    "\n",
    "[1]: https://www2.cgd.ucar.edu/events/2019/ctsm/files/practical2-shuman-dagon.pdf"
   ]
  },
  {
   "cell_type": "markdown",
   "id": "46d952c2",
   "metadata": {},
   "source": [
    "## Useful links:\n",
    "\n",
    "\n",
    "\n",
    "\n"
   ]
  },
  {
   "cell_type": "markdown",
   "id": "76508f99",
   "metadata": {},
   "source": [
    "1. [Community Terrestrial Sestems Model tutorial][1]. Especailly important practiacal \n",
    "\n",
    "[1]: https://www2.cgd.ucar.edu/events/2019/ctsm/"
   ]
  },
  {
   "cell_type": "markdown",
   "id": "0b964d71",
   "metadata": {},
   "source": [
    "Settings for atmospheric forcing you can find in Chapter 4."
   ]
  }
 ],
 "metadata": {
  "kernelspec": {
   "display_name": "Python 3 (ipykernel)",
   "language": "python",
   "name": "python3"
  },
  "language_info": {
   "codemirror_mode": {
    "name": "ipython",
    "version": 3
   },
   "file_extension": ".py",
   "mimetype": "text/x-python",
   "name": "python",
   "nbconvert_exporter": "python",
   "pygments_lexer": "ipython3",
   "version": "3.9.16"
  }
 },
 "nbformat": 4,
 "nbformat_minor": 5
}
