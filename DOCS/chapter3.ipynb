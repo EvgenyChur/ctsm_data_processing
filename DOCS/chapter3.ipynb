{
 "cells": [
  {
   "cell_type": "markdown",
   "id": "3fbe77e5",
   "metadata": {},
   "source": [
    "# Customization your case:"
   ]
  },
  {
   "cell_type": "markdown",
   "id": "a500cdea",
   "metadata": {},
   "source": [
    "At the beginning of your work with the CTSM model you have to create a new case. There are three necessary parameters for the tool that create new case `~./cime/scripts/create_newcase`:\n",
    "1. `--case` specifies location and name of the case being created (`home/b/<user_ID>/Test`);\n",
    "2. `--res` specifies the model resolutions (`f19_g17`);\n",
    "3. `--compset` specifies the compset name (`I2000Clm50Sp`);\n",
    "\n",
    "and if you want to use CTSM model on unsupported machine, you have to use one additional parameters:\n",
    "\n",
    "4. `--mach` specifies unsupported machine name (`levante`);\n",
    "5. `--run-unsupported` specifies unsupported compset.\n",
    "\n",
    "```\n",
    "# Example: \n",
    "~/.create_newcase --case Test --compset I1850Clm50BgcCrop --mach levante --res f09_g17 --run-unsupported\n",
    "```\n",
    "\n",
    "You can get a full list of arguments using this command\n",
    "```\n",
    "cd /work/mj0143/b381275/CTSM/cime/scripts\n",
    "./create_newcase --help\n",
    "```\n",
    "\n",
    "\n",
    "\n",
    "At the DKRZ cluster, there are 4 compsets which were tested: **I2000Clm50Sp**, **I2000Clm50BgcCrop**, **I2000Clm50Fates** and **I1850Clm50BgcCrop**. However, what should you do if you want to use your personal composet"
   ]
  },
  {
   "cell_type": "markdown",
   "id": "bb65c9fb",
   "metadata": {},
   "source": [
    "## Select composet:"
   ]
  },
  {
   "cell_type": "markdown",
   "id": "cc9302c6",
   "metadata": {},
   "source": [
    "Component set specifies component models(e.g. active vsdata), forcing scenarios(e.g. 1850 vs 2000) and physics options(e.g. CLM4.5 vsCLM5.0)for those models. Each model compset can be specified by its alias or long name:\n",
    "+ alias: **I1850Clm50Sp**;\n",
    "+ long name: **1850_DATM%GSWP3v1_CLM50%SP_SICE_SOCN_MOSART_CISM2%NOEVOLVE_SWAV**\n",
    "\n",
    "All compsets start with a different letter of the alphabet from `A` (for all data model) to `X` (for all dead model): \n",
    "+ `B` compsets which have all active components;\n",
    "+ `E` or `F` compsets --> contain CLM with the active atmosphere model (CAM), prescribed sea-ice model, and a data ocean model;\n",
    "+ `I` compsets --> contain CLM with a data atmosphere model and a stub ocean, and stub sea-ice models (**Standalone option**)"
   ]
  },
  {
   "cell_type": "markdown",
   "id": "a870c9c7",
   "metadata": {},
   "source": [
    "The compset longname below has the specified order `atm, lnd, ice, ocn, river, glc wave cesm-options`. The notation for the compset longname is: `TIME_ATM[%phys]_LND[%phys]_ICE[%phys]_OCN[%phys]_ROF[%phys]_GLC[%phys]_WAV[%phys]_BGC%phys]`\n",
    "\n",
    "Where for the CAM specific compsets below the following is supported\n",
    "- **TIME** = Time period (e.g. 2000, HIST, SSP585...)\n",
    "- **ATM**  = [CAM40, CAM50, CAM55]\n",
    "- **LND**  = [CLM45, CLM50, CLM51, SLND]\n",
    "- **ICE**  = [CICE, DICE, SICE]\n",
    "- **OCN**  = [DOCN, ,AQUAP, SOCN]\n",
    "- **ROF**  = [RTM, SROF]\n",
    "- **GLC**  = [CISM2, SGLC]\n",
    "- **WAV**  = [SWAV]\n",
    "- **BGC**  = optional BGC scenario"
   ]
  },
  {
   "cell_type": "markdown",
   "id": "5ea3ae3c",
   "metadata": {},
   "source": [
    "<font color='red' size=2><b>More information about composets you can find:</b></font>\n",
    "1. on the official web-page of CTSM model ([the entire list of compsets][1]). Here you can find supported grid options;\n",
    "2. on the Github page ([documentation][2]);\n",
    "2. you can use tool which you can find in you CTSM folder:\n",
    "```\n",
    "cd /work/mj0143/<user_ID>/CTSM/cime/scripts\n",
    "# Get information about compsets\n",
    "./query_config --compset\n",
    "```\n",
    "\n",
    "[1]: https://docs.cesm.ucar.edu/models/cesm2/config/compsets.html\n",
    "[2]: https://escomp.github.io/ctsm-docs/versions/master/html/users_guide/setting-up-and-running-a-case/choosing-a-compset.html"
   ]
  },
  {
   "cell_type": "markdown",
   "id": "90bbe3ba",
   "metadata": {},
   "source": [
    "## Select grid:"
   ]
  },
  {
   "cell_type": "markdown",
   "id": "4ec29c17",
   "metadata": {},
   "source": [
    "Each CTSM composet uses grid with a special model resolution, which can be specified by:\n",
    "- alias: **f19_g17**(atm/lnd_ocn/ice)\n",
    "- long name: **a%1.9x2.5_l%1.9x2.5_oi%gx1v7_r%r05_g%gland4_w%ww3a_m%gx1v7**\n",
    "\n",
    "where: `a%` - atm, `l%` - lnd, `oi%` - ocn/ice grid, `r%` - river, `g%` - lnd-ice, `w%` - wave and `m%` - ocn-ice mask\n",
    "\n",
    "<font color='red' size=2><b>More information about grid you can find:</b></font>\n",
    "1. on the official web-page of CTSM model ([the entire list of grids][1]);\n",
    "2. you can use tool which you can find in you CTSM folder:\n",
    "```\n",
    "cd /work/mj0143/<user_ID>/CTSM/cime/scripts\n",
    "# Get information about compsets\n",
    "./query_config --grid\n",
    "```\n",
    "\n",
    "Also, you can create your personal grid. See more information here.\n",
    "\n",
    "[1]: https://docs.cesm.ucar.edu/models/cesm2/config/grids.html\n",
    "[2]: https://escomp.github.io/ctsm-docs/versions/master/html/users_guide/setting-up-and-running-a-case/choosing-a-compset.html"
   ]
  },
  {
   "cell_type": "markdown",
   "id": "8458c468",
   "metadata": {},
   "source": [
    "<font color='red' size=2><b>What does Sp, BGC and FATES mean?</b></font>\n",
    "\n",
    "* atmospheric forcing:\n",
    "    + **GSWP3**;\n",
    "    + **CRUNCEP**;\n",
    "    + **CPLHIST3HrWx**.\n",
    "    \n",
    "    \n",
    "* Model options:\n",
    "    - **Sp** is satellite phenology. It means that the phenology is prescribed based on remote sensing data;\n",
    "    - **BGC** - biogeochemistry mode. It means that the phenology is prognostic based on model-calculated climatology;\n",
    "    - **Fates** - (Functionally Assembled Terrestrial Ecosystem Simulator) model option must also be specified with a namelistparameter: `use_fates=.true`. Also this mode includes size structure with disturbance and competition\n",
    "    - **Gs** - in the compsetname indicates a stub glacier model (rather than CISM); we’re using that to speed up the build\n",
    "\n",
    "\n",
    "\n"
   ]
  },
  {
   "cell_type": "markdown",
   "id": "abd65dc1",
   "metadata": {},
   "source": [
    "## Get input data:"
   ]
  },
  {
   "cell_type": "markdown",
   "id": "2915a742",
   "metadata": {},
   "source": [
    "When you have done this algorithm without errors:\n",
    "\n",
    "```\n",
    "# 1. Create your new case from you home folder:\n",
    "/work/mj0143/b381275/CTSM/cime/scripts/create_newcase --case your_case --mach levante --res f09_g17 \\\n",
    "                                                      --compset I1850Clm50BgcCrop --run-unsupported\n",
    "cd your_case\n",
    "\n",
    "# 2. Setup your case:\n",
    "./case.setup\n",
    "\n",
    "# 3. Build your case:\n",
    "./case.build\n",
    "```\n",
    "\n",
    "you need to download necessary input data. You can do that using CTSM tool which is located in your `CASEFOLDER` "
   ]
  },
  {
   "cell_type": "markdown",
   "id": "f0eb68b5",
   "metadata": {},
   "source": [
    "<div class=\"alert alert-block alert-info\">\n",
    "    <b>Download missing data:</b>\n",
    "</div>\n",
    "\n",
    "```\n",
    "# Check input data \n",
    "./check_input_data\n",
    "\n",
    "# Download input data:\n",
    "./check_input_data --download\n",
    "```\n",
    "\n",
    "Sometimes you can get error that file cannot be downloaded in that case you have to download data manually from\n",
    "https://svn-ccsm-inputdata.cgd.ucar.edu/trunk/inputdata/"
   ]
  },
  {
   "cell_type": "markdown",
   "id": "f52d000b",
   "metadata": {},
   "source": [
    "then you can run the model\n",
    "\n",
    "```\n",
    "./case.submit\n",
    "```"
   ]
  },
  {
   "cell_type": "markdown",
   "id": "95f0c077",
   "metadata": {},
   "source": [
    "More information about settings for namelist parameters and history variables is presented in **chapter 3**."
   ]
  }
 ],
 "metadata": {
  "kernelspec": {
   "display_name": "Python 3 (ipykernel)",
   "language": "python",
   "name": "python3"
  },
  "language_info": {
   "codemirror_mode": {
    "name": "ipython",
    "version": 3
   },
   "file_extension": ".py",
   "mimetype": "text/x-python",
   "name": "python",
   "nbconvert_exporter": "python",
   "pygments_lexer": "ipython3",
   "version": "3.9.16"
  }
 },
 "nbformat": 4,
 "nbformat_minor": 5
}
